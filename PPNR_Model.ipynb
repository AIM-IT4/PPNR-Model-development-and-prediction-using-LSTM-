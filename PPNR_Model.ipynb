{
  "cells": [
    {
      "cell_type": "markdown",
      "source": [
        "# PPNR Model\n",
        "\n",
        "Pre-Provision Net Revenue (PPNR) modeling is a critical component of the Comprehensive Capital Analysis and Review (CCAR) process established by the Federal Reserve in the United States. It is a projection of a bank's net revenue, excluding loan loss provisions and extraordinary items. PPNR is a key input into stress testing exercises and is used to assess a bank's capital adequacy.\n",
        "\n",
        "## Who Developed This?\n",
        "\n",
        "The concept of PPNR modeling was introduced by the Federal Reserve as part of the CCAR process following the 2008 financial crisis. The aim was to ensure that banks have sufficient capital to withstand economic downturns and continue operations. The Federal Reserve reviews and approves banks' PPNR models as part of this process.\n",
        "\n",
        "## Why is it Necessary?\n",
        "\n",
        "PPNR modeling is necessary for a few reasons:\n",
        "\n",
        "- **Risk Management:** It helps banks understand potential future revenue under various stress scenarios, aiding in risk management.\n",
        "- **Capital Planning:** It is a key input into banks' capital planning processes. Banks need to ensure they have sufficient capital to withstand potential losses, and PPNR projections help inform these decisions.\n",
        "- **Regulatory Compliance:** Banks are required to submit PPNR projections as part of the CCAR process. These projections are reviewed by the Federal Reserve.\n",
        "\n",
        "## How Do We Develop a PPNR Model?\n",
        "\n",
        "Developing a PPNR model involves several steps:\n",
        "\n",
        "1. **Data Collection:** Gather historical data on revenues, expenses, and other relevant factors.\n",
        "2. **Variable Selection:** Identify the variables that are most predictive of PPNR. These could include macroeconomic variables (e.g., GDP growth, interest rates), as well as bank-specific variables (e.g., loan volumes, deposit volumes).\n",
        "3. **Model Specification:** Choose a model that best fits the data. This could be a linear regression model, a time series model, or a more complex machine learning model.\n",
        "4. **Model Estimation:** Estimate the model parameters using historical data.\n",
        "5. **Validation:** Validate the model using out-of-sample data to ensure it is robust and reliable.\n",
        "6. **Forecasting:** Use the model to forecast PPNR under various scenarios.\n",
        "\n",
        "In the following sections, we will demonstrate the development of an advanced PPNR model using a Long Short-Term Memory (LSTM) model, a type of recurrent neural network that is well-suited to modeling time series data."
      ],
      "metadata": {
        "jupyter": {
          "outputs_hidden": false,
          "source_hidden": false
        },
        "noteable": {
          "cell_type": "markdown"
        }
      },
      "id": "e7b65740-4f44-45d3-94b5-8e84249f38cf"
    },
    {
      "cell_type": "code",
      "source": [
        "# Importing necessary libraries\n",
        "import numpy as np\n",
        "import pandas as pd\n",
        "import matplotlib.pyplot as plt\n",
        "from sklearn.preprocessing import MinMaxScaler\n",
        "from keras.models import Sequential\n",
        "from keras.layers import Dense, LSTM, Dropout\n",
        "import keras\n",
        "\n",
        "# Checking if keras and tensorflow are installed\n",
        "print(keras.__version__)\n",
        "import tensorflow as tf\n",
        "print(tf.__version__)"
      ],
      "outputs": [],
      "execution_count": null,
      "metadata": {
        "jupyter": {
          "outputs_hidden": true,
          "source_hidden": false
        },
        "noteable": {
          "cell_type": "code"
        },
        "ExecuteTime": {
          "end_time": "2023-06-03T03:58:42.810267+00:00",
          "start_time": "2023-06-03T03:58:40.433719+00:00"
        }
      },
      "id": "3fdbb735-bb14-444c-93bf-6e832da29626"
    },
    {
      "cell_type": "code",
      "source": [
        "!pip install keras tensorflow"
      ],
      "outputs": [],
      "execution_count": null,
      "metadata": {
        "jupyter": {
          "outputs_hidden": true,
          "source_hidden": false
        },
        "noteable": {
          "cell_type": "code"
        },
        "ExecuteTime": {
          "end_time": "2023-06-03T03:59:37.291168+00:00",
          "start_time": "2023-06-03T03:58:50.204138+00:00"
        },
        "scrolled": false
      },
      "id": "7015a678-c40e-41f9-841d-164ccc30c5ed"
    },
    {
      "cell_type": "markdown",
      "source": [
        "## Step 1: Data Preparation\n",
        "\n",
        "In this step, we will generate some hypothetical data for our PPNR model. In a real-world scenario, this data would typically come from the bank's internal systems or external data sources.\n",
        "\n",
        "We will generate data for the following variables:\n",
        "\n",
        "1. **Loan Balance**: This is the total amount of loans that the bank has given out. It is a key driver of the bank's net interest income because the bank earns interest on these loans.\n",
        "\n",
        "2. **Deposit Balance**: This is the total amount of deposits that the bank holds. It is a key driver of the bank's net interest expense because the bank pays interest on these deposits.\n",
        "\n",
        "3. **Non-Interest Income**: This is income that the bank earns from sources other than interest, such as fees, service charges, and trading income.\n",
        "\n",
        "4. **Non-Interest Expense**: This is the bank's expenses that are not related to interest, such as salaries, rent, and technology costs.\n",
        "\n",
        "5. **Net Charge-Offs**: This is the amount of loans that the bank has written off as uncollectible, net of any recoveries.\n",
        "\n",
        "We will generate this data for 20 quarters (5 years)."
      ],
      "metadata": {
        "jupyter": {
          "outputs_hidden": false,
          "source_hidden": false
        },
        "noteable": {
          "cell_type": "markdown"
        }
      },
      "id": "da9a771f-8595-41b2-8c43-af544e88820e"
    },
    {
      "cell_type": "code",
      "source": [
        "import pandas as pd\n",
        "import numpy as np\n",
        "\n",
        "# Set the seed for reproducibility\n",
        "np.random.seed(0)\n",
        "\n",
        "# Define the number of quarters\n",
        "n_quarters = 20\n",
        "\n",
        "# Generate a date range for the quarters\n",
        "dates = pd.date_range(start='2018-01-01', periods=n_quarters, freq='Q')\n",
        "\n",
        "# Generate random data for the variables\n",
        "loan_balance = np.random.uniform(low=50000, high=100000, size=n_quarters)\n",
        "deposit_balance = np.random.uniform(low=50000, high=100000, size=n_quarters)\n",
        "non_interest_income = np.random.uniform(low=5000, high=10000, size=n_quarters)\n",
        "non_interest_expense = np.random.uniform(low=5000, high=10000, size=n_quarters)\n",
        "net_charge_offs = np.random.uniform(low=0, high=5000, size=n_quarters)\n",
        "\n",
        "# Create a DataFrame\n",
        "data = pd.DataFrame(\n",
        "    {\n",
        "        'Date': dates,\n",
        "        'Loan Balance': loan_balance,\n",
        "        'Deposit Balance': deposit_balance,\n",
        "        'Non-Interest Income': non_interest_income,\n",
        "        'Non-Interest Expense': non_interest_expense,\n",
        "        'Net Charge-Offs': net_charge_offs,\n",
        "    }\n",
        ")\n",
        "\n",
        "# Set the Date column as the index\n",
        "data.set_index('Date', inplace=True)\n",
        "\n",
        "# Display the first few rows of the DataFrame\n",
        "data.head()"
      ],
      "outputs": [
        {
          "output_type": "display_data",
          "data": {
            "application/vnd.dataresource+json": {
              "schema": {
                "fields": [
                  {
                    "name": "Date",
                    "type": "datetime"
                  },
                  {
                    "name": "Loan Balance",
                    "type": "number"
                  },
                  {
                    "name": "Deposit Balance",
                    "type": "number"
                  },
                  {
                    "name": "Non-Interest Income",
                    "type": "number"
                  },
                  {
                    "name": "Non-Interest Expense",
                    "type": "number"
                  },
                  {
                    "name": "Net Charge-Offs",
                    "type": "number"
                  }
                ],
                "primaryKey": [
                  "Date"
                ],
                "pandas_version": "1.4.0"
              },
              "data": [
                {
                  "Date": "2018-03-31T00:00:00Z",
                  "Loan Balance": 77440.67519636624,
                  "Deposit Balance": 98930.9171116382,
                  "Non-Interest Income": 6797.53950286893,
                  "Non-Interest Expense": 5794.847918227599,
                  "Net Charge-Offs": 1589.9158969698801
                },
                {
                  "Date": "2018-06-30T00:00:00Z",
                  "Loan Balance": 85759.46831862097,
                  "Deposit Balance": 89957.92821083618,
                  "Non-Interest Income": 7185.1597689967075,
                  "Non-Interest Expense": 5551.875705821526,
                  "Net Charge-Offs": 2071.3149725733497
                },
                {
                  "Date": "2018-09-30T00:00:00Z",
                  "Loan Balance": 80138.1688035822,
                  "Deposit Balance": 73073.96811264659,
                  "Non-Interest Income": 8488.155979636325,
                  "Non-Interest Expense": 8281.647947326368,
                  "Net Charge-Offs": 320.7374817439218
                },
                {
                  "Date": "2018-12-31T00:00:00Z",
                  "Loan Balance": 77244.15914984484,
                  "Deposit Balance": 89026.45881432277,
                  "Non-Interest Income": 5301.127358146349,
                  "Non-Interest Expense": 5690.914756743069,
                  "Net Charge-Offs": 3462.3605968500992
                },
                {
                  "Date": "2019-03-31T00:00:00Z",
                  "Loan Balance": 71182.73996694523,
                  "Deposit Balance": 55913.72129344666,
                  "Non-Interest Income": 8333.833577228339,
                  "Non-Interest Expense": 5982.911808400268,
                  "Net Charge-Offs": 2833.007271032876
                }
              ],
              "datalink": {
                "display_id": "b91de782-13a7-480e-96c2-c4292bf97ee2"
              }
            }
          },
          "metadata": {
            "application/vnd.dataresource+json": {
              "datalink": {
                "dataframe_info": {
                  "default_index_used": false,
                  "orig_size_bytes": 240,
                  "orig_num_rows": 5,
                  "orig_num_cols": 5,
                  "truncated_string_columns": [],
                  "truncated_size_bytes": 240,
                  "truncated_num_rows": 5,
                  "truncated_num_cols": 5
                },
                "dx_settings": {
                  "NUM_PAST_SAMPLES_TRACKED": 3,
                  "ENABLE_DATALINK": true,
                  "DISPLAY_MODE": "simple",
                  "GENERATE_DEX_METADATA": false,
                  "STRINGIFY_INDEX_VALUES": false,
                  "ALLOW_NOTEABLE_ATTRS": true,
                  "DISPLAY_MAX_COLUMNS": 100,
                  "HTML_TABLE_SCHEMA": false,
                  "SAMPLING_FACTOR": 0.1,
                  "LOG_LEVEL": 30,
                  "ENABLE_ASSIGNMENT": true,
                  "FLATTEN_INDEX_VALUES": false,
                  "DEV_MODE": false,
                  "COLUMN_SAMPLING_METHOD": "outer",
                  "FLATTEN_COLUMN_VALUES": true,
                  "DISPLAY_MAX_ROWS": 50000,
                  "ROW_SAMPLING_METHOD": "random",
                  "RANDOM_STATE": 12648430,
                  "DB_LOCATION": ":memory:",
                  "STRINGIFY_COLUMN_VALUES": true,
                  "SAMPLING_METHOD": "random",
                  "MAX_STRING_LENGTH": 250,
                  "MAX_RENDER_SIZE_BYTES": 104857600,
                  "RESET_INDEX_VALUES": false
                },
                "display_id": "b91de782-13a7-480e-96c2-c4292bf97ee2",
                "applied_filters": [],
                "sample_history": [],
                "sampling_time": "2023-06-03T04:18:30.327832",
                "variable_name": "unk_dataframe_3c6ed478ea5a4562b63606d2d4e17ac1",
                "user_variable_name": null
              },
              "display_id": "b91de782-13a7-480e-96c2-c4292bf97ee2"
            }
          }
        }
      ],
      "execution_count": null,
      "metadata": {
        "jupyter": {
          "outputs_hidden": false,
          "source_hidden": false
        },
        "noteable": {
          "cell_type": "code"
        },
        "ExecuteTime": {
          "end_time": "2023-06-03T04:18:30.484654+00:00",
          "start_time": "2023-06-03T04:18:30.269442+00:00"
        },
        "datalink": {
          "91fd38fd-87bb-41c6-8d52-19dc513dddb2": {
            "applied_filters": [],
            "dataframe_info": {
              "default_index_used": false,
              "orig_num_cols": 5,
              "orig_num_rows": 5,
              "orig_size_bytes": 240,
              "truncated_num_cols": 5,
              "truncated_num_rows": 5,
              "truncated_size_bytes": 240,
              "truncated_string_columns": []
            },
            "display_id": "91fd38fd-87bb-41c6-8d52-19dc513dddb2",
            "dx_settings": {
              "ALLOW_NOTEABLE_ATTRS": true,
              "COLUMN_SAMPLING_METHOD": "outer",
              "DB_LOCATION": ":memory:",
              "DEV_MODE": false,
              "DISPLAY_MAX_COLUMNS": 100,
              "DISPLAY_MAX_ROWS": 50000,
              "DISPLAY_MODE": "simple",
              "ENABLE_ASSIGNMENT": true,
              "ENABLE_DATALINK": true,
              "FLATTEN_COLUMN_VALUES": true,
              "FLATTEN_INDEX_VALUES": false,
              "GENERATE_DEX_METADATA": false,
              "HTML_TABLE_SCHEMA": false,
              "LOG_LEVEL": 30,
              "MAX_RENDER_SIZE_BYTES": 104857600,
              "MAX_STRING_LENGTH": 250,
              "NUM_PAST_SAMPLES_TRACKED": 3,
              "RANDOM_STATE": 12648430,
              "RESET_INDEX_VALUES": false,
              "ROW_SAMPLING_METHOD": "random",
              "SAMPLING_FACTOR": 0.1,
              "SAMPLING_METHOD": "random",
              "STRINGIFY_COLUMN_VALUES": true,
              "STRINGIFY_INDEX_VALUES": false
            },
            "sample_history": [],
            "sampling_time": "2023-06-03T03:59:58.456230",
            "user_variable_name": null,
            "variable_name": "unk_dataframe_ea6d8cdf83884bc18fc6a0597b5e1751"
          },
          "5edb2d44-58cf-4ee9-b38b-2392902fab57": {
            "applied_filters": [],
            "dataframe_info": {
              "default_index_used": false,
              "orig_num_cols": 5,
              "orig_num_rows": 5,
              "orig_size_bytes": 240,
              "truncated_num_cols": 5,
              "truncated_num_rows": 5,
              "truncated_size_bytes": 240,
              "truncated_string_columns": []
            },
            "display_id": "5edb2d44-58cf-4ee9-b38b-2392902fab57",
            "dx_settings": {
              "ALLOW_NOTEABLE_ATTRS": true,
              "COLUMN_SAMPLING_METHOD": "outer",
              "DB_LOCATION": ":memory:",
              "DEV_MODE": false,
              "DISPLAY_MAX_COLUMNS": 100,
              "DISPLAY_MAX_ROWS": 50000,
              "DISPLAY_MODE": "simple",
              "ENABLE_ASSIGNMENT": true,
              "ENABLE_DATALINK": true,
              "FLATTEN_COLUMN_VALUES": true,
              "FLATTEN_INDEX_VALUES": false,
              "GENERATE_DEX_METADATA": false,
              "HTML_TABLE_SCHEMA": false,
              "LOG_LEVEL": 30,
              "MAX_RENDER_SIZE_BYTES": 104857600,
              "MAX_STRING_LENGTH": 250,
              "NUM_PAST_SAMPLES_TRACKED": 3,
              "RANDOM_STATE": 12648430,
              "RESET_INDEX_VALUES": false,
              "ROW_SAMPLING_METHOD": "random",
              "SAMPLING_FACTOR": 0.1,
              "SAMPLING_METHOD": "random",
              "STRINGIFY_COLUMN_VALUES": true,
              "STRINGIFY_INDEX_VALUES": false
            },
            "sample_history": [],
            "sampling_time": "2023-06-03T04:08:29.877671",
            "user_variable_name": null,
            "variable_name": "unk_dataframe_58d992d22d4f4ddcb0f74442a190def4"
          },
          "b4369e5f-6cbf-45b3-89b3-ba811b326788": {
            "applied_filters": [],
            "dataframe_info": {
              "default_index_used": false,
              "orig_num_cols": 5,
              "orig_num_rows": 5,
              "orig_size_bytes": 240,
              "truncated_num_cols": 5,
              "truncated_num_rows": 5,
              "truncated_size_bytes": 240,
              "truncated_string_columns": []
            },
            "display_id": "b4369e5f-6cbf-45b3-89b3-ba811b326788",
            "dx_settings": {
              "ALLOW_NOTEABLE_ATTRS": true,
              "COLUMN_SAMPLING_METHOD": "outer",
              "DB_LOCATION": ":memory:",
              "DEV_MODE": false,
              "DISPLAY_MAX_COLUMNS": 100,
              "DISPLAY_MAX_ROWS": 50000,
              "DISPLAY_MODE": "simple",
              "ENABLE_ASSIGNMENT": true,
              "ENABLE_DATALINK": true,
              "FLATTEN_COLUMN_VALUES": true,
              "FLATTEN_INDEX_VALUES": false,
              "GENERATE_DEX_METADATA": false,
              "HTML_TABLE_SCHEMA": false,
              "LOG_LEVEL": 30,
              "MAX_RENDER_SIZE_BYTES": 104857600,
              "MAX_STRING_LENGTH": 250,
              "NUM_PAST_SAMPLES_TRACKED": 3,
              "RANDOM_STATE": 12648430,
              "RESET_INDEX_VALUES": false,
              "ROW_SAMPLING_METHOD": "random",
              "SAMPLING_FACTOR": 0.1,
              "SAMPLING_METHOD": "random",
              "STRINGIFY_COLUMN_VALUES": true,
              "STRINGIFY_INDEX_VALUES": false
            },
            "sample_history": [],
            "sampling_time": "2023-06-03T04:09:45.173002",
            "user_variable_name": null,
            "variable_name": "unk_dataframe_49eba94a61d644d0b28c96be3b5394a9"
          },
          "f1241d01-e6fe-46df-8da1-62d2a993e93a": {
            "applied_filters": [],
            "dataframe_info": {
              "default_index_used": false,
              "orig_num_cols": 5,
              "orig_num_rows": 5,
              "orig_size_bytes": 240,
              "truncated_num_cols": 5,
              "truncated_num_rows": 5,
              "truncated_size_bytes": 240,
              "truncated_string_columns": []
            },
            "display_id": "f1241d01-e6fe-46df-8da1-62d2a993e93a",
            "dx_settings": {
              "ALLOW_NOTEABLE_ATTRS": true,
              "COLUMN_SAMPLING_METHOD": "outer",
              "DB_LOCATION": ":memory:",
              "DEV_MODE": false,
              "DISPLAY_MAX_COLUMNS": 100,
              "DISPLAY_MAX_ROWS": 50000,
              "DISPLAY_MODE": "simple",
              "ENABLE_ASSIGNMENT": true,
              "ENABLE_DATALINK": true,
              "FLATTEN_COLUMN_VALUES": true,
              "FLATTEN_INDEX_VALUES": false,
              "GENERATE_DEX_METADATA": false,
              "HTML_TABLE_SCHEMA": false,
              "LOG_LEVEL": 30,
              "MAX_RENDER_SIZE_BYTES": 104857600,
              "MAX_STRING_LENGTH": 250,
              "NUM_PAST_SAMPLES_TRACKED": 3,
              "RANDOM_STATE": 12648430,
              "RESET_INDEX_VALUES": false,
              "ROW_SAMPLING_METHOD": "random",
              "SAMPLING_FACTOR": 0.1,
              "SAMPLING_METHOD": "random",
              "STRINGIFY_COLUMN_VALUES": true,
              "STRINGIFY_INDEX_VALUES": false
            },
            "sample_history": [],
            "sampling_time": "2023-06-03T04:14:40.665640",
            "user_variable_name": null,
            "variable_name": "unk_dataframe_df7ccdd4420c4f119cf0ecf66aa2de62"
          },
          "b91de782-13a7-480e-96c2-c4292bf97ee2": {
            "applied_filters": [],
            "dataframe_info": {
              "default_index_used": false,
              "orig_num_cols": 5,
              "orig_num_rows": 5,
              "orig_size_bytes": 240,
              "truncated_num_cols": 5,
              "truncated_num_rows": 5,
              "truncated_size_bytes": 240,
              "truncated_string_columns": []
            },
            "display_id": "b91de782-13a7-480e-96c2-c4292bf97ee2",
            "dx_settings": {
              "ALLOW_NOTEABLE_ATTRS": true,
              "COLUMN_SAMPLING_METHOD": "outer",
              "DB_LOCATION": ":memory:",
              "DEV_MODE": false,
              "DISPLAY_MAX_COLUMNS": 100,
              "DISPLAY_MAX_ROWS": 50000,
              "DISPLAY_MODE": "simple",
              "ENABLE_ASSIGNMENT": true,
              "ENABLE_DATALINK": true,
              "FLATTEN_COLUMN_VALUES": true,
              "FLATTEN_INDEX_VALUES": false,
              "GENERATE_DEX_METADATA": false,
              "HTML_TABLE_SCHEMA": false,
              "LOG_LEVEL": 30,
              "MAX_RENDER_SIZE_BYTES": 104857600,
              "MAX_STRING_LENGTH": 250,
              "NUM_PAST_SAMPLES_TRACKED": 3,
              "RANDOM_STATE": 12648430,
              "RESET_INDEX_VALUES": false,
              "ROW_SAMPLING_METHOD": "random",
              "SAMPLING_FACTOR": 0.1,
              "SAMPLING_METHOD": "random",
              "STRINGIFY_COLUMN_VALUES": true,
              "STRINGIFY_INDEX_VALUES": false
            },
            "sample_history": [],
            "sampling_time": "2023-06-03T04:18:30.327832",
            "user_variable_name": null,
            "variable_name": "unk_dataframe_3c6ed478ea5a4562b63606d2d4e17ac1"
          }
        },
        "dx": {
          "dashboard": {
            "multiViews": [
              {
                "dashboardFilter": true,
                "decoration": {
                  "footer": "",
                  "subtitle": "",
                  "title": "EDA"
                },
                "filterSettings": {
                  "SHOW_FILTER_PANEL": true,
                  "filters": []
                },
                "id": "74476169-54c3-414b-9fcc-dfb719a65ac3",
                "viewSizes": {},
                "views": [
                  {
                    "column": 0,
                    "id": "06ce66bc-1893-4fdf-814b-9d77aeba6827",
                    "row": 0
                  }
                ],
                "viewsIgnoringDashboardFilters": {}
              }
            ]
          },
          "fieldMetadata": {
            "Date": {
              "columnPosition": 1,
              "hidden": true
            },
            "Deposit Balance": {
              "columnPosition": 3
            },
            "Loan Balance": {
              "columnPosition": 2
            },
            "Net Charge-Offs": {
              "columnPosition": 6
            },
            "Non-Interest Expense": {
              "columnPosition": 5
            },
            "Non-Interest Income": {
              "columnPosition": 4
            }
          },
          "updated": 1685766506571,
          "views": [
            {
              "annotationRules": [],
              "chart": {
                "confoColor": "none",
                "facets": [],
                "metric1": "Non-Interest Expense",
                "metric2": "Net Charge-Offs",
                "scatterplotSize": "none",
                "selectedMetrics": [
                  "Non-Interest Income",
                  "Non-Interest Expense",
                  "Deposit Balance"
                ],
                "splomMode": "correlation",
                "suggestionFields": [
                  "Non-Interest Income - Metric",
                  "Non-Interest Expense - Metric",
                  "Deposit Balance - Metric"
                ]
              },
              "chartMode": "splom",
              "confoRules": [],
              "decoration": {
                "footer": "",
                "subtitle": "",
                "title": "Chart 1"
              },
              "facets": [],
              "filterSettings": {
                "SHOW_FILTER_PANEL": true,
                "filters": []
              },
              "id": "06ce66bc-1893-4fdf-814b-9d77aeba6827",
              "isDefault": false,
              "size": {
                "height": 390,
                "width": 390
              },
              "type": "public",
              "userID": ""
            }
          ]
        },
        "scrolled": true
      },
      "id": "37ecf09c-3a04-48b0-b052-34d68214c9ff"
    },
    {
      "cell_type": "markdown",
      "source": [
        "## Step 2: Data Preprocessing\n",
        "\n",
        "Before we can use this data to train our LSTM model, we need to preprocess it. This involves the following steps:\n",
        "\n",
        "1. **Feature Scaling:** LSTM models are sensitive to the scale of the input data. We will use MinMaxScaler from sklearn to scale our data to be between 0 and 1.\n",
        "\n",
        "2. **Creating a Time Series Data Structure:** LSTM models require the input to be in a specific format. We will create a data structure where at each time step, the model looks at the past 5 quarters of data to predict the next quarter."
      ],
      "metadata": {
        "jupyter": {
          "outputs_hidden": false,
          "source_hidden": false
        },
        "noteable": {
          "cell_type": "markdown"
        }
      },
      "id": "5789a7ff-4a0a-49af-9265-a38f9514295f"
    },
    {
      "cell_type": "code",
      "source": [
        "from sklearn.preprocessing import MinMaxScaler\n",
        "\n",
        "# Define a scaler for the features\n",
        "feature_scaler = MinMaxScaler(feature_range=(0, 1))\n",
        "\n",
        "# Scale the features\n",
        "scaled_data = feature_scaler.fit_transform(data)\n",
        "\n",
        "# Define the number of time steps (i.e., the number of quarters to look back)\n",
        "n_steps = 5\n",
        "\n",
        "# Initialize lists to hold the input and output data\n",
        "X, y = [], []\n",
        "\n",
        "# Create the input and output data\n",
        "for i in range(n_steps, len(scaled_data)):\n",
        "    X.append(scaled_data[i - n_steps:i, :])\n",
        "    y.append(scaled_data[i, :])\n",
        "\n",
        "# Convert the input and output data to numpy arrays\n",
        "X, y = np.array(X), np.array(y)\n",
        "\n",
        "# Print the shapes of the input and output data\n",
        "print('X shape:', X.shape)\n",
        "print('y shape:', y.shape)"
      ],
      "outputs": [
        {
          "output_type": "stream",
          "name": "stdout",
          "text": [
            "X shape: (15, 5, 5)\n",
            "y shape: (15, 5)\n"
          ]
        }
      ],
      "execution_count": null,
      "metadata": {
        "jupyter": {
          "outputs_hidden": false,
          "source_hidden": false
        },
        "noteable": {
          "cell_type": "code"
        },
        "ExecuteTime": {
          "end_time": "2023-06-03T04:00:30.443469+00:00",
          "start_time": "2023-06-03T04:00:30.280552+00:00"
        }
      },
      "id": "30b14d63-2bf9-493a-803f-3ad0fd32aa46"
    },
    {
      "cell_type": "markdown",
      "source": [
        "## Step 3: Building the LSTM Model\n",
        "\n",
        "Now that we have preprocessed our data, we can build our LSTM model. We will use the Keras library to do this.\n",
        "\n",
        "Our model will have the following architecture:\n",
        "\n",
        "1. **First LSTM layer** with 50 units and 'relu' activation function. We will return sequences from this layer because we have another LSTM layer following this one.\n",
        "\n",
        "2. **Second LSTM layer** with 50 units and 'relu' activation function.\n",
        "\n",
        "3. **Dropout layer** to prevent overfitting. We will drop 20% of the neurons.\n",
        "\n",
        "4. **Dense layer** to produce the output. Since we have 5 features in our data, we will have 5 units in the dense layer."
      ],
      "metadata": {
        "jupyter": {
          "outputs_hidden": false,
          "source_hidden": false
        },
        "noteable": {
          "cell_type": "markdown"
        }
      },
      "id": "efb4b925-2675-4d42-965b-3bb417fca86d"
    },
    {
      "cell_type": "code",
      "source": [
        "from keras.models import Sequential\n",
        "from keras.layers import Dense, LSTM, Dropout\n",
        "\n",
        "# Initialize the LSTM model\n",
        "model = Sequential()\n",
        "\n",
        "# Add the first LSTM layer\n",
        "# We need to specify the input shape because this is the first layer\n",
        "model.add(LSTM(units=50, activation='relu', return_sequences=True, input_shape=(X.shape[1], X.shape[2])))\n",
        "\n",
        "# Add the second LSTM layer\n",
        "model.add(LSTM(units=50, activation='relu'))\n",
        "\n",
        "# Add a Dropout layer\n",
        "model.add(Dropout(0.2))\n",
        "\n",
        "# Add the output layer\n",
        "model.add(Dense(units=X.shape[2]))\n",
        "\n",
        "# Compile the model\n",
        "model.compile(optimizer='adam', loss='mse')\n",
        "\n",
        "# Print the model summary\n",
        "model.summary()"
      ],
      "outputs": [
        {
          "output_type": "stream",
          "name": "stderr",
          "text": [
            "2023-06-03 04:01:01.003125: I tensorflow/tsl/cuda/cudart_stub.cc:28] Could not find cuda drivers on your machine, GPU will not be used.\n",
            "2023-06-03 04:01:01.072125: I tensorflow/tsl/cuda/cudart_stub.cc:28] Could not find cuda drivers on your machine, GPU will not be used.\n",
            "2023-06-03 04:01:01.073514: I tensorflow/core/platform/cpu_feature_guard.cc:182] This TensorFlow binary is optimized to use available CPU instructions in performance-critical operations.\n",
            "To enable the following instructions: AVX2 FMA, in other operations, rebuild TensorFlow with the appropriate compiler flags.\n"
          ]
        },
        {
          "output_type": "stream",
          "name": "stderr",
          "text": [
            "2023-06-03 04:01:02.190540: W tensorflow/compiler/tf2tensorrt/utils/py_utils.cc:38] TF-TRT Warning: Could not find TensorRT\n"
          ]
        },
        {
          "output_type": "stream",
          "name": "stdout",
          "text": [
            "Model: \"sequential\"\n"
          ]
        },
        {
          "output_type": "stream",
          "name": "stdout",
          "text": [
            "_________________________________________________________________\n"
          ]
        },
        {
          "output_type": "stream",
          "name": "stdout",
          "text": [
            " Layer (type)                Output Shape              Param #   \n"
          ]
        },
        {
          "output_type": "stream",
          "name": "stdout",
          "text": [
            "=================================================================\n"
          ]
        },
        {
          "output_type": "stream",
          "name": "stdout",
          "text": [
            " lstm (LSTM)                 (None, 5, 50)             11200     \n"
          ]
        },
        {
          "output_type": "stream",
          "name": "stdout",
          "text": [
            "                                                                 \n"
          ]
        },
        {
          "output_type": "stream",
          "name": "stdout",
          "text": [
            " lstm_1 (LSTM)               (None, 50)                20200     \n"
          ]
        },
        {
          "output_type": "stream",
          "name": "stdout",
          "text": [
            "                                                                 \n"
          ]
        },
        {
          "output_type": "stream",
          "name": "stdout",
          "text": [
            " dropout (Dropout)           (None, 50)                0         \n"
          ]
        },
        {
          "output_type": "stream",
          "name": "stdout",
          "text": [
            "                                                                 \n"
          ]
        },
        {
          "output_type": "stream",
          "name": "stdout",
          "text": [
            " dense (Dense)               (None, 5)                 255       \n"
          ]
        },
        {
          "output_type": "stream",
          "name": "stdout",
          "text": [
            "                                                                 \n"
          ]
        },
        {
          "output_type": "stream",
          "name": "stdout",
          "text": [
            "=================================================================\n"
          ]
        },
        {
          "output_type": "stream",
          "name": "stdout",
          "text": [
            "Total params: 31,655\n"
          ]
        },
        {
          "output_type": "stream",
          "name": "stdout",
          "text": [
            "Trainable params: 31,655\n"
          ]
        },
        {
          "output_type": "stream",
          "name": "stdout",
          "text": [
            "Non-trainable params: 0\n"
          ]
        },
        {
          "output_type": "stream",
          "name": "stdout",
          "text": [
            "_________________________________________________________________\n"
          ]
        }
      ],
      "execution_count": null,
      "metadata": {
        "jupyter": {
          "outputs_hidden": true,
          "source_hidden": false
        },
        "noteable": {
          "cell_type": "code"
        },
        "ExecuteTime": {
          "end_time": "2023-06-03T04:01:03.485631+00:00",
          "start_time": "2023-06-03T04:01:00.808090+00:00"
        },
        "scrolled": false
      },
      "id": "5998808a-99c3-42ee-8be4-cc8b418e053e"
    },
    {
      "cell_type": "markdown",
      "source": [
        "## Step 4: Training the LSTM Model\n",
        "\n",
        "Now that we have built our LSTM model, we can train it on our data. We will use 100 epochs to train the model. An epoch is one complete pass through the entire training dataset."
      ],
      "metadata": {
        "jupyter": {
          "outputs_hidden": false,
          "source_hidden": false
        },
        "noteable": {
          "cell_type": "markdown"
        }
      },
      "id": "ff3d5e68-0890-44dd-89a7-8e2f2db9ae05"
    },
    {
      "cell_type": "code",
      "source": [
        "# Train the model\n",
        "history = model.fit(X, y, epochs=100, verbose=1)"
      ],
      "outputs": [],
      "execution_count": null,
      "metadata": {
        "jupyter": {
          "outputs_hidden": true,
          "source_hidden": false
        },
        "noteable": {
          "cell_type": "code"
        },
        "ExecuteTime": {
          "end_time": "2023-06-03T04:01:28.291026+00:00",
          "start_time": "2023-06-03T04:01:22.009381+00:00"
        },
        "scrolled": false
      },
      "id": "45d4e083-6cf7-446e-a83a-a27945638c0f"
    },
    {
      "cell_type": "code",
      "source": [
        "# Plot the training loss\n",
        "plt.figure(figsize=(10,6))\n",
        "plt.plot(history.history['loss'])\n",
        "plt.title('Model Loss Progress During Training')\n",
        "plt.xlabel('Epoch')\n",
        "plt.ylabel('Training Loss')\n",
        "plt.legend(['Training Loss'])"
      ],
      "outputs": [
        {
          "output_type": "execute_result",
          "execution_count": null,
          "data": {
            "text/plain": "<matplotlib.legend.Legend at 0x7f6e5c1e2e50>"
          },
          "metadata": {}
        },
        {
          "output_type": "display_data",
          "data": {
            "image/png": "[encoded data removed]"
          },
          "metadata": {}
        }
      ],
      "execution_count": null,
      "metadata": {
        "jupyter": {
          "outputs_hidden": false,
          "source_hidden": false
        },
        "noteable": {
          "cell_type": "code"
        },
        "ExecuteTime": {
          "end_time": "2023-06-03T04:01:44.548808+00:00",
          "start_time": "2023-06-03T04:01:43.871588+00:00"
        }
      },
      "id": "c00916d2-9ced-4caf-9429-ff68fd13aa05"
    },
    {
      "cell_type": "markdown",
      "source": [
        "## Step 5: Making Predictions\n",
        "\n",
        "Now that we have trained our LSTM model, we can use it to make predictions. We will predict the next 5 quarters of data."
      ],
      "metadata": {
        "jupyter": {
          "outputs_hidden": false,
          "source_hidden": false
        },
        "noteable": {
          "cell_type": "markdown"
        }
      },
      "id": "82a1149c-6849-41ce-aa1e-ac45a6241524"
    },
    {
      "cell_type": "code",
      "source": [
        "# Define the number of future quarters to predict\n",
        "n_future_quarters = 5\n",
        "\n",
        "# Initialize a list to hold the predictions\n",
        "predictions = []\n",
        "\n",
        "# Get the last n_steps quarters of data\n",
        "input_data = scaled_data[-n_steps:]\n",
        "\n",
        "# Reshape the input data to be suitable for the LSTM model\n",
        "input_data = input_data.reshape((1, n_steps, X.shape[2]))\n",
        "\n",
        "# Make predictions for the future quarters\n",
        "for _ in range(n_future_quarters):\n",
        "    # Make a prediction\n",
        "    prediction = model.predict(input_data)\n",
        "\n",
        "    # Append the prediction to the list of predictions\n",
        "    predictions.append(prediction[0])\n",
        "\n",
        "    # Update the input data to include the new prediction\n",
        "    input_data = np.append(input_data[:,1:,:], [prediction], axis=1)\n",
        "\n",
        "# Convert the predictions to a numpy array\n",
        "predictions = np.array(predictions)\n",
        "\n",
        "# Inverse transform the predictions to get them on the original scale\n",
        "predictions = feature_scaler.inverse_transform(predictions)\n",
        "\n",
        "# Print the predictions\n",
        "predictions"
      ],
      "outputs": [
        {
          "output_type": "stream",
          "name": "stdout",
          "text": [
            "\r1/1 [==============================] - ETA: 0s"
          ]
        },
        {
          "output_type": "stream",
          "name": "stdout",
          "text": [
            "\b\b\b\b\b\b\b\b\b\b\b\b\b\b\b\b\b\b\b\b\b\b\b\b\b\b\b\b\b\b\b\b\b\b\b\b\b\b\b\b\b\b\b\b\b\b\r",
            "1/1 [==============================] - 0s 324ms/step\n"
          ]
        },
        {
          "output_type": "stream",
          "name": "stdout",
          "text": [
            "\r1/1 [==============================] - ETA: 0s"
          ]
        },
        {
          "output_type": "stream",
          "name": "stdout",
          "text": [
            "\b\b\b\b\b\b\b\b\b\b\b\b\b\b\b\b\b\b\b\b\b\b\b\b\b\b\b\b\b\b\b\b\b\b\b\b\b\b\b\b\b\b\b\b\b\b\r",
            "1/1 [==============================] - 0s 37ms/step\n"
          ]
        },
        {
          "output_type": "stream",
          "name": "stdout",
          "text": [
            "\r1/1 [==============================] - ETA: 0s"
          ]
        },
        {
          "output_type": "stream",
          "name": "stdout",
          "text": [
            "\b\b\b\b\b\b\b\b\b\b\b\b\b\b\b\b\b\b\b\b\b\b\b\b\b\b\b\b\b\b\b\b\b\b\b\b\b\b\b\b\b\b\b\b\b\b\r",
            "1/1 [==============================] - 0s 24ms/step\n"
          ]
        },
        {
          "output_type": "stream",
          "name": "stdout",
          "text": [
            "\r1/1 [==============================] - ETA: 0s"
          ]
        },
        {
          "output_type": "stream",
          "name": "stdout",
          "text": [
            "\b\b\b\b\b\b\b\b\b\b\b\b\b\b\b\b\b\b\b\b\b\b\b\b\b\b\b\b\b\b\b\b\b\b\b\b\b\b\b\b\b\b\b\b\b\b\r",
            "1/1 [==============================] - 0s 23ms/step\n"
          ]
        },
        {
          "output_type": "stream",
          "name": "stdout",
          "text": [
            "\r1/1 [==============================] - ETA: 0s"
          ]
        },
        {
          "output_type": "stream",
          "name": "stdout",
          "text": [
            "\b\b\b\b\b\b\b\b\b\b\b\b\b\b\b\b\b\b\b\b\b\b\b\b\b\b\b\b\b\b\b\b\b\b\b\b\b\b\b\b\b\b\b\b\b\b\r",
            "1/1 [==============================] - 0s 26ms/step\n"
          ]
        },
        {
          "output_type": "execute_result",
          "execution_count": null,
          "data": {
            "text/plain": "array([[81102.94  , 77275.22  ,  7136.096 ,  7373.1157,  2050.7678],\n       [82254.18  , 78696.17  ,  7255.153 ,  7564.183 ,  2174.9673],\n       [83194.914 , 79678.77  ,  7360.7554,  7734.8525,  2283.4934],\n       [82531.98  , 79503.71  ,  7322.2646,  7738.5864,  2264.4238],\n       [77439.18  , 75072.3   ,  6969.9893,  7342.881 ,  1935.23  ]],\n      dtype=float32)"
          },
          "metadata": {}
        }
      ],
      "execution_count": null,
      "metadata": {
        "jupyter": {
          "outputs_hidden": false,
          "source_hidden": false
        },
        "noteable": {
          "cell_type": "code"
        },
        "ExecuteTime": {
          "end_time": "2023-06-03T04:02:22.399614+00:00",
          "start_time": "2023-06-03T04:02:21.558170+00:00"
        }
      },
      "id": "4e4149cc-77ce-422c-917f-8a23ba7d3e1a"
    },
    {
      "cell_type": "code",
      "source": [
        "# Create a DataFrame for the predictions\n",
        "predictions_df = pd.DataFrame(predictions, columns=data.columns)\n",
        "\n",
        "# Create a date range for the predictions\n",
        "future_dates = pd.date_range(start=data.index[-1], periods=n_future_quarters+1, freq='Q')[1:]\n",
        "\n",
        "# Set the date range as the index\n",
        "predictions_df.set_index(future_dates, inplace=True)\n",
        "\n",
        "# Concatenate the original data and the predictions\n",
        "full_df = pd.concat([data, predictions_df])\n",
        "\n",
        "# Plot the data\n",
        "plt.figure(figsize=(10,6))\n",
        "plt.plot(full_df.index, full_df['Loan Balance'], label='Loan Balance')\n",
        "plt.plot(full_df.index, full_df['Deposit Balance'], label='Deposit Balance')\n",
        "plt.plot(full_df.index, full_df['Non-Interest Income'], label='Non-Interest Income')\n",
        "plt.plot(full_df.index, full_df['Non-Interest Expense'], label='Non-Interest Expense')\n",
        "plt.plot(full_df.index, full_df['Net Charge-Offs'], label='Net Charge-Offs')\n",
        "plt.fill_between(predictions_df.index, 0, predictions_df.max().max(), color='k', alpha=0.1)\n",
        "plt.title('PPNR Model Predictions')\n",
        "plt.xlabel('Quarter')\n",
        "plt.ylabel('Value')\n",
        "plt.legend()\n",
        "plt.show()"
      ],
      "outputs": [
        {
          "output_type": "display_data",
          "data": {
            "image/png": "[encoded data removed]"
          },
          "metadata": {}
        }
      ],
      "execution_count": null,
      "metadata": {
        "jupyter": {
          "outputs_hidden": false,
          "source_hidden": false
        },
        "noteable": {
          "cell_type": "code"
        },
        "ExecuteTime": {
          "end_time": "2023-06-03T04:04:54.703203+00:00",
          "start_time": "2023-06-03T04:04:54.158472+00:00"
        }
      },
      "id": "90ec3782-aa10-4607-8374-842ed001d6bf"
    },
    {
      "cell_type": "markdown",
      "source": [
        "In this plot:\n",
        "\n",
        "The solid lines represent the actual historical data for each variable.\n",
        "The shaded region represents the future quarters for which we made predictions.\n",
        "The lines in the shaded region represent the predicted values for each variable.\n",
        "As you can see, the LSTM model has learned from the historical data and used this information to make predictions for the next 5 quarters. Please note that these predictions are based on the hypothetical data we generated, and in a real-world scenario, the predictions would be based on actual historical data from the bank."
      ],
      "metadata": {
        "noteable": {
          "cell_type": "markdown"
        }
      },
      "id": "c0b1c9fe-097e-4c26-84aa-04934128368e"
    }
  ],
  "metadata": {
    "noteable-chatgpt": {
      "create_notebook": {
        "openai_conversation_id": "fcff5784-5c86-52ad-9867-e00a3c0f9965",
        "openai_ephemeral_user_id": "b924575e-8556-55b5-b816-ca169e103c60",
        "openai_subdivision1_iso_code": "IN-MH"
      }
    },
    "noteable": {
      "last_transaction_id": "d1c044bd-dbf5-4e4c-9a0b-e842f14b27ff",
      "last_delta_id": "7ea57e5f-f7a0-4fc8-8c80-fe2b10be71e0"
    },
    "selected_hardware_size": "small",
    "nteract": {
      "version": "noteable@2.9.0"
    }
  },
  "nbformat": 4,
  "nbformat_minor": 5
}
